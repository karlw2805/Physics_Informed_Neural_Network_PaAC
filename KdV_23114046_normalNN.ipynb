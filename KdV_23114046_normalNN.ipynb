{
 "cells": [
  {
   "cell_type": "markdown",
   "source": [
    "# Korteweg–De Vries equation\n",
    "#### Korteweg–De Vries equation is a mathematical model that describes the propagation of long waves in shallow water. This Jupyter Notebook is an attempt to obtain data-driven solution of this partial differential equation !"
   ],
   "metadata": {
    "collapsed": false
   },
   "id": "9ac6e0f13ea13d6a"
  },
  {
   "cell_type": "code",
   "execution_count": 70,
   "id": "initial_id",
   "metadata": {
    "collapsed": false,
    "ExecuteTime": {
     "end_time": "2024-10-12T06:50:19.582187Z",
     "start_time": "2024-10-12T06:50:19.538989Z"
    }
   },
   "outputs": [],
   "source": [
    "import torch\n",
    "import numpy as np\n",
    "import torch.nn as nn\n",
    "import torch.optim as optim\n",
    "import scipy.io\n",
    "import matplotlib.pyplot as plt"
   ]
  },
  {
   "cell_type": "code",
   "execution_count": 71,
   "id": "9e7c92a561ad2683",
   "metadata": {
    "collapsed": false,
    "ExecuteTime": {
     "end_time": "2024-10-12T06:50:19.585069Z",
     "start_time": "2024-10-12T06:50:19.544104Z"
    }
   },
   "outputs": [
    {
     "data": {
      "text/plain": "{'__header__': b'MATLAB 5.0 MAT-file, Platform: GLNXA64, Created on: Fri Nov 10 22:10:58 2017',\n '__version__': '1.0',\n '__globals__': [],\n 'tt': array([[0.   , 0.005, 0.01 , 0.015, 0.02 , 0.025, 0.03 , 0.035, 0.04 ,\n         0.045, 0.05 , 0.055, 0.06 , 0.065, 0.07 , 0.075, 0.08 , 0.085,\n         0.09 , 0.095, 0.1  , 0.105, 0.11 , 0.115, 0.12 , 0.125, 0.13 ,\n         0.135, 0.14 , 0.145, 0.15 , 0.155, 0.16 , 0.165, 0.17 , 0.175,\n         0.18 , 0.185, 0.19 , 0.195, 0.2  , 0.205, 0.21 , 0.215, 0.22 ,\n         0.225, 0.23 , 0.235, 0.24 , 0.245, 0.25 , 0.255, 0.26 , 0.265,\n         0.27 , 0.275, 0.28 , 0.285, 0.29 , 0.295, 0.3  , 0.305, 0.31 ,\n         0.315, 0.32 , 0.325, 0.33 , 0.335, 0.34 , 0.345, 0.35 , 0.355,\n         0.36 , 0.365, 0.37 , 0.375, 0.38 , 0.385, 0.39 , 0.395, 0.4  ,\n         0.405, 0.41 , 0.415, 0.42 , 0.425, 0.43 , 0.435, 0.44 , 0.445,\n         0.45 , 0.455, 0.46 , 0.465, 0.47 , 0.475, 0.48 , 0.485, 0.49 ,\n         0.495, 0.5  , 0.505, 0.51 , 0.515, 0.52 , 0.525, 0.53 , 0.535,\n         0.54 , 0.545, 0.55 , 0.555, 0.56 , 0.565, 0.57 , 0.575, 0.58 ,\n         0.585, 0.59 , 0.595, 0.6  , 0.605, 0.61 , 0.615, 0.62 , 0.625,\n         0.63 , 0.635, 0.64 , 0.645, 0.65 , 0.655, 0.66 , 0.665, 0.67 ,\n         0.675, 0.68 , 0.685, 0.69 , 0.695, 0.7  , 0.705, 0.71 , 0.715,\n         0.72 , 0.725, 0.73 , 0.735, 0.74 , 0.745, 0.75 , 0.755, 0.76 ,\n         0.765, 0.77 , 0.775, 0.78 , 0.785, 0.79 , 0.795, 0.8  , 0.805,\n         0.81 , 0.815, 0.82 , 0.825, 0.83 , 0.835, 0.84 , 0.845, 0.85 ,\n         0.855, 0.86 , 0.865, 0.87 , 0.875, 0.88 , 0.885, 0.89 , 0.895,\n         0.9  , 0.905, 0.91 , 0.915, 0.92 , 0.925, 0.93 , 0.935, 0.94 ,\n         0.945, 0.95 , 0.955, 0.96 , 0.965, 0.97 , 0.975, 0.98 , 0.985,\n         0.99 , 0.995, 1.   ]]),\n 'uu': array([[-1.        , -0.99986138, -0.99944613, ..., -0.2990494 ,\n         -0.30680348, -0.31504228],\n        [-0.9999247 , -0.99958875, -0.99897688, ..., -0.30593341,\n         -0.3141108 , -0.32274729],\n        [-0.99969882, -0.99916579, -0.99835783, ..., -0.31316908,\n         -0.32174456, -0.33075232],\n        ...,\n        [-0.99932238, -0.99977614, -0.99995277, ..., -0.28074235,\n         -0.2870876 , -0.29398577],\n        [-0.99969882, -0.99995518, -0.99993429, ..., -0.28643157,\n         -0.29326822, -0.30063664],\n        [-0.9999247 , -0.99998356, -0.99976534, ..., -0.29254114,\n         -0.29984787, -0.30766359]]),\n 'x': array([[-1.        , -0.99609375, -0.9921875 , -0.98828125, -0.984375  ,\n         -0.98046875, -0.9765625 , -0.97265625, -0.96875   , -0.96484375,\n         -0.9609375 , -0.95703125, -0.953125  , -0.94921875, -0.9453125 ,\n         -0.94140625, -0.9375    , -0.93359375, -0.9296875 , -0.92578125,\n         -0.921875  , -0.91796875, -0.9140625 , -0.91015625, -0.90625   ,\n         -0.90234375, -0.8984375 , -0.89453125, -0.890625  , -0.88671875,\n         -0.8828125 , -0.87890625, -0.875     , -0.87109375, -0.8671875 ,\n         -0.86328125, -0.859375  , -0.85546875, -0.8515625 , -0.84765625,\n         -0.84375   , -0.83984375, -0.8359375 , -0.83203125, -0.828125  ,\n         -0.82421875, -0.8203125 , -0.81640625, -0.8125    , -0.80859375,\n         -0.8046875 , -0.80078125, -0.796875  , -0.79296875, -0.7890625 ,\n         -0.78515625, -0.78125   , -0.77734375, -0.7734375 , -0.76953125,\n         -0.765625  , -0.76171875, -0.7578125 , -0.75390625, -0.75      ,\n         -0.74609375, -0.7421875 , -0.73828125, -0.734375  , -0.73046875,\n         -0.7265625 , -0.72265625, -0.71875   , -0.71484375, -0.7109375 ,\n         -0.70703125, -0.703125  , -0.69921875, -0.6953125 , -0.69140625,\n         -0.6875    , -0.68359375, -0.6796875 , -0.67578125, -0.671875  ,\n         -0.66796875, -0.6640625 , -0.66015625, -0.65625   , -0.65234375,\n         -0.6484375 , -0.64453125, -0.640625  , -0.63671875, -0.6328125 ,\n         -0.62890625, -0.625     , -0.62109375, -0.6171875 , -0.61328125,\n         -0.609375  , -0.60546875, -0.6015625 , -0.59765625, -0.59375   ,\n         -0.58984375, -0.5859375 , -0.58203125, -0.578125  , -0.57421875,\n         -0.5703125 , -0.56640625, -0.5625    , -0.55859375, -0.5546875 ,\n         -0.55078125, -0.546875  , -0.54296875, -0.5390625 , -0.53515625,\n         -0.53125   , -0.52734375, -0.5234375 , -0.51953125, -0.515625  ,\n         -0.51171875, -0.5078125 , -0.50390625, -0.5       , -0.49609375,\n         -0.4921875 , -0.48828125, -0.484375  , -0.48046875, -0.4765625 ,\n         -0.47265625, -0.46875   , -0.46484375, -0.4609375 , -0.45703125,\n         -0.453125  , -0.44921875, -0.4453125 , -0.44140625, -0.4375    ,\n         -0.43359375, -0.4296875 , -0.42578125, -0.421875  , -0.41796875,\n         -0.4140625 , -0.41015625, -0.40625   , -0.40234375, -0.3984375 ,\n         -0.39453125, -0.390625  , -0.38671875, -0.3828125 , -0.37890625,\n         -0.375     , -0.37109375, -0.3671875 , -0.36328125, -0.359375  ,\n         -0.35546875, -0.3515625 , -0.34765625, -0.34375   , -0.33984375,\n         -0.3359375 , -0.33203125, -0.328125  , -0.32421875, -0.3203125 ,\n         -0.31640625, -0.3125    , -0.30859375, -0.3046875 , -0.30078125,\n         -0.296875  , -0.29296875, -0.2890625 , -0.28515625, -0.28125   ,\n         -0.27734375, -0.2734375 , -0.26953125, -0.265625  , -0.26171875,\n         -0.2578125 , -0.25390625, -0.25      , -0.24609375, -0.2421875 ,\n         -0.23828125, -0.234375  , -0.23046875, -0.2265625 , -0.22265625,\n         -0.21875   , -0.21484375, -0.2109375 , -0.20703125, -0.203125  ,\n         -0.19921875, -0.1953125 , -0.19140625, -0.1875    , -0.18359375,\n         -0.1796875 , -0.17578125, -0.171875  , -0.16796875, -0.1640625 ,\n         -0.16015625, -0.15625   , -0.15234375, -0.1484375 , -0.14453125,\n         -0.140625  , -0.13671875, -0.1328125 , -0.12890625, -0.125     ,\n         -0.12109375, -0.1171875 , -0.11328125, -0.109375  , -0.10546875,\n         -0.1015625 , -0.09765625, -0.09375   , -0.08984375, -0.0859375 ,\n         -0.08203125, -0.078125  , -0.07421875, -0.0703125 , -0.06640625,\n         -0.0625    , -0.05859375, -0.0546875 , -0.05078125, -0.046875  ,\n         -0.04296875, -0.0390625 , -0.03515625, -0.03125   , -0.02734375,\n         -0.0234375 , -0.01953125, -0.015625  , -0.01171875, -0.0078125 ,\n         -0.00390625,  0.        ,  0.00390625,  0.0078125 ,  0.01171875,\n          0.015625  ,  0.01953125,  0.0234375 ,  0.02734375,  0.03125   ,\n          0.03515625,  0.0390625 ,  0.04296875,  0.046875  ,  0.05078125,\n          0.0546875 ,  0.05859375,  0.0625    ,  0.06640625,  0.0703125 ,\n          0.07421875,  0.078125  ,  0.08203125,  0.0859375 ,  0.08984375,\n          0.09375   ,  0.09765625,  0.1015625 ,  0.10546875,  0.109375  ,\n          0.11328125,  0.1171875 ,  0.12109375,  0.125     ,  0.12890625,\n          0.1328125 ,  0.13671875,  0.140625  ,  0.14453125,  0.1484375 ,\n          0.15234375,  0.15625   ,  0.16015625,  0.1640625 ,  0.16796875,\n          0.171875  ,  0.17578125,  0.1796875 ,  0.18359375,  0.1875    ,\n          0.19140625,  0.1953125 ,  0.19921875,  0.203125  ,  0.20703125,\n          0.2109375 ,  0.21484375,  0.21875   ,  0.22265625,  0.2265625 ,\n          0.23046875,  0.234375  ,  0.23828125,  0.2421875 ,  0.24609375,\n          0.25      ,  0.25390625,  0.2578125 ,  0.26171875,  0.265625  ,\n          0.26953125,  0.2734375 ,  0.27734375,  0.28125   ,  0.28515625,\n          0.2890625 ,  0.29296875,  0.296875  ,  0.30078125,  0.3046875 ,\n          0.30859375,  0.3125    ,  0.31640625,  0.3203125 ,  0.32421875,\n          0.328125  ,  0.33203125,  0.3359375 ,  0.33984375,  0.34375   ,\n          0.34765625,  0.3515625 ,  0.35546875,  0.359375  ,  0.36328125,\n          0.3671875 ,  0.37109375,  0.375     ,  0.37890625,  0.3828125 ,\n          0.38671875,  0.390625  ,  0.39453125,  0.3984375 ,  0.40234375,\n          0.40625   ,  0.41015625,  0.4140625 ,  0.41796875,  0.421875  ,\n          0.42578125,  0.4296875 ,  0.43359375,  0.4375    ,  0.44140625,\n          0.4453125 ,  0.44921875,  0.453125  ,  0.45703125,  0.4609375 ,\n          0.46484375,  0.46875   ,  0.47265625,  0.4765625 ,  0.48046875,\n          0.484375  ,  0.48828125,  0.4921875 ,  0.49609375,  0.5       ,\n          0.50390625,  0.5078125 ,  0.51171875,  0.515625  ,  0.51953125,\n          0.5234375 ,  0.52734375,  0.53125   ,  0.53515625,  0.5390625 ,\n          0.54296875,  0.546875  ,  0.55078125,  0.5546875 ,  0.55859375,\n          0.5625    ,  0.56640625,  0.5703125 ,  0.57421875,  0.578125  ,\n          0.58203125,  0.5859375 ,  0.58984375,  0.59375   ,  0.59765625,\n          0.6015625 ,  0.60546875,  0.609375  ,  0.61328125,  0.6171875 ,\n          0.62109375,  0.625     ,  0.62890625,  0.6328125 ,  0.63671875,\n          0.640625  ,  0.64453125,  0.6484375 ,  0.65234375,  0.65625   ,\n          0.66015625,  0.6640625 ,  0.66796875,  0.671875  ,  0.67578125,\n          0.6796875 ,  0.68359375,  0.6875    ,  0.69140625,  0.6953125 ,\n          0.69921875,  0.703125  ,  0.70703125,  0.7109375 ,  0.71484375,\n          0.71875   ,  0.72265625,  0.7265625 ,  0.73046875,  0.734375  ,\n          0.73828125,  0.7421875 ,  0.74609375,  0.75      ,  0.75390625,\n          0.7578125 ,  0.76171875,  0.765625  ,  0.76953125,  0.7734375 ,\n          0.77734375,  0.78125   ,  0.78515625,  0.7890625 ,  0.79296875,\n          0.796875  ,  0.80078125,  0.8046875 ,  0.80859375,  0.8125    ,\n          0.81640625,  0.8203125 ,  0.82421875,  0.828125  ,  0.83203125,\n          0.8359375 ,  0.83984375,  0.84375   ,  0.84765625,  0.8515625 ,\n          0.85546875,  0.859375  ,  0.86328125,  0.8671875 ,  0.87109375,\n          0.875     ,  0.87890625,  0.8828125 ,  0.88671875,  0.890625  ,\n          0.89453125,  0.8984375 ,  0.90234375,  0.90625   ,  0.91015625,\n          0.9140625 ,  0.91796875,  0.921875  ,  0.92578125,  0.9296875 ,\n          0.93359375,  0.9375    ,  0.94140625,  0.9453125 ,  0.94921875,\n          0.953125  ,  0.95703125,  0.9609375 ,  0.96484375,  0.96875   ,\n          0.97265625,  0.9765625 ,  0.98046875,  0.984375  ,  0.98828125,\n          0.9921875 ,  0.99609375]])}"
     },
     "execution_count": 71,
     "metadata": {},
     "output_type": "execute_result"
    }
   ],
   "source": [
    "sample_data = scipy.io.loadmat(\"/Users/kartikgoyal/Downloads/kdV.mat\")\n",
    "sample_data"
   ]
  },
  {
   "cell_type": "code",
   "execution_count": 72,
   "id": "329fa86c22413732",
   "metadata": {
    "collapsed": false,
    "ExecuteTime": {
     "end_time": "2024-10-12T06:50:19.586454Z",
     "start_time": "2024-10-12T06:50:19.573301Z"
    }
   },
   "outputs": [
    {
     "name": "stdout",
     "output_type": "stream",
     "text": [
      "(512, 201)\n",
      "(1, 201)\n",
      "(1, 512)\n"
     ]
    }
   ],
   "source": [
    "typ=['uu','tt','x']\n",
    "for i in typ:\n",
    "    print(sample_data[i].shape)"
   ]
  },
  {
   "cell_type": "code",
   "execution_count": 73,
   "id": "b0f4014f6e27b652",
   "metadata": {
    "collapsed": false,
    "ExecuteTime": {
     "end_time": "2024-10-12T06:50:19.586879Z",
     "start_time": "2024-10-12T06:50:19.577621Z"
    }
   },
   "outputs": [],
   "source": [
    "tt = sample_data['tt'].flatten()\n",
    "x = sample_data['x'].flatten()\n",
    "uu = sample_data['uu']"
   ]
  },
  {
   "cell_type": "code",
   "execution_count": 74,
   "id": "b2c6131f0cdfa2df",
   "metadata": {
    "collapsed": false,
    "ExecuteTime": {
     "end_time": "2024-10-12T06:50:19.595448Z",
     "start_time": "2024-10-12T06:50:19.584936Z"
    }
   },
   "outputs": [],
   "source": [
    "X, Y = np.meshgrid(x, tt)\n",
    "X_flat = np.column_stack((X.flatten(), Y.flatten()))\n",
    "uu_flat = uu.flatten()"
   ]
  },
  {
   "cell_type": "code",
   "execution_count": 75,
   "id": "9fd392058a9f161d",
   "metadata": {
    "collapsed": false,
    "ExecuteTime": {
     "end_time": "2024-10-12T06:50:19.639328Z",
     "start_time": "2024-10-12T06:50:19.599316Z"
    }
   },
   "outputs": [],
   "source": [
    "X_tensor = torch.tensor(X_flat, dtype=torch.float32)\n",
    "uu_tensor = torch.tensor(uu_flat, dtype=torch.float32).unsqueeze(1)"
   ]
  },
  {
   "cell_type": "code",
   "execution_count": 76,
   "id": "ea9256ebb0c4fe26",
   "metadata": {
    "collapsed": false,
    "ExecuteTime": {
     "end_time": "2024-10-12T06:50:19.646885Z",
     "start_time": "2024-10-12T06:50:19.614274Z"
    }
   },
   "outputs": [],
   "source": [
    "class SimpleNN(nn.Module):\n",
    "    def __init__(self):\n",
    "        super(SimpleNN, self).__init__()\n",
    "        self.fc1 = nn.Linear(2, 64)  # Input layer: 2 inputs (x, t)\n",
    "        self.fc2 = nn.Linear(64, 64) # Hidden layer\n",
    "        self.fc3 = nn.Linear(64, 1)  # Output layer: 1 output (solution uu)\n",
    "\n",
    "    def forward(self, x):\n",
    "        x = torch.relu(self.fc1(x))  # Apply ReLU activation\n",
    "        x = torch.relu(self.fc2(x))  # Apply ReLU activation\n",
    "        x = self.fc3(x)              # No activation at output\n",
    "        return x"
   ]
  },
  {
   "cell_type": "code",
   "execution_count": 77,
   "id": "262754bc2a6cd1ff",
   "metadata": {
    "collapsed": false,
    "ExecuteTime": {
     "end_time": "2024-10-12T06:50:19.647675Z",
     "start_time": "2024-10-12T06:50:19.618830Z"
    }
   },
   "outputs": [],
   "source": [
    "model = SimpleNN()\n",
    "criterion = nn.MSELoss()\n",
    "optimizer = optim.Adam(model.parameters(), lr=0.001)"
   ]
  },
  {
   "cell_type": "code",
   "execution_count": 78,
   "id": "6997ac6eb0134826",
   "metadata": {
    "collapsed": false,
    "ExecuteTime": {
     "end_time": "2024-10-12T06:51:01.930864Z",
     "start_time": "2024-10-12T06:50:19.630268Z"
    }
   },
   "outputs": [
    {
     "name": "stdout",
     "output_type": "stream",
     "text": [
      "Epoch [10/1000], Loss: 0.4871\n",
      "Epoch [20/1000], Loss: 0.4744\n",
      "Epoch [30/1000], Loss: 0.4588\n",
      "Epoch [40/1000], Loss: 0.4391\n",
      "Epoch [50/1000], Loss: 0.4140\n",
      "Epoch [60/1000], Loss: 0.3835\n",
      "Epoch [70/1000], Loss: 0.3493\n",
      "Epoch [80/1000], Loss: 0.3151\n",
      "Epoch [90/1000], Loss: 0.2862\n",
      "Epoch [100/1000], Loss: 0.2672\n",
      "Epoch [110/1000], Loss: 0.2571\n",
      "Epoch [120/1000], Loss: 0.2502\n",
      "Epoch [130/1000], Loss: 0.2401\n",
      "Epoch [140/1000], Loss: 0.2345\n",
      "Epoch [150/1000], Loss: 0.2300\n",
      "Epoch [160/1000], Loss: 0.2254\n",
      "Epoch [170/1000], Loss: 0.2222\n",
      "Epoch [180/1000], Loss: 0.2187\n",
      "Epoch [190/1000], Loss: 0.2162\n",
      "Epoch [200/1000], Loss: 0.2143\n",
      "Epoch [210/1000], Loss: 0.2126\n",
      "Epoch [220/1000], Loss: 0.2112\n",
      "Epoch [230/1000], Loss: 0.2098\n",
      "Epoch [240/1000], Loss: 0.2085\n",
      "Epoch [250/1000], Loss: 0.2072\n",
      "Epoch [260/1000], Loss: 0.2058\n",
      "Epoch [270/1000], Loss: 0.2044\n",
      "Epoch [280/1000], Loss: 0.2030\n",
      "Epoch [290/1000], Loss: 0.2015\n",
      "Epoch [300/1000], Loss: 0.2000\n",
      "Epoch [310/1000], Loss: 0.1983\n",
      "Epoch [320/1000], Loss: 0.1965\n",
      "Epoch [330/1000], Loss: 0.1947\n",
      "Epoch [340/1000], Loss: 0.1928\n",
      "Epoch [350/1000], Loss: 0.1907\n",
      "Epoch [360/1000], Loss: 0.1887\n",
      "Epoch [370/1000], Loss: 0.1867\n",
      "Epoch [380/1000], Loss: 0.1845\n",
      "Epoch [390/1000], Loss: 0.1824\n",
      "Epoch [400/1000], Loss: 0.1802\n",
      "Epoch [410/1000], Loss: 0.1780\n",
      "Epoch [420/1000], Loss: 0.1757\n",
      "Epoch [430/1000], Loss: 0.1734\n",
      "Epoch [440/1000], Loss: 0.1711\n",
      "Epoch [450/1000], Loss: 0.1686\n",
      "Epoch [460/1000], Loss: 0.1663\n",
      "Epoch [470/1000], Loss: 0.1639\n",
      "Epoch [480/1000], Loss: 0.1613\n",
      "Epoch [490/1000], Loss: 0.1592\n",
      "Epoch [500/1000], Loss: 0.1569\n",
      "Epoch [510/1000], Loss: 0.1548\n",
      "Epoch [520/1000], Loss: 0.1529\n",
      "Epoch [530/1000], Loss: 0.1510\n",
      "Epoch [540/1000], Loss: 0.1493\n",
      "Epoch [550/1000], Loss: 0.1476\n",
      "Epoch [560/1000], Loss: 0.1462\n",
      "Epoch [570/1000], Loss: 0.1447\n",
      "Epoch [580/1000], Loss: 0.1433\n",
      "Epoch [590/1000], Loss: 0.1420\n",
      "Epoch [600/1000], Loss: 0.1407\n",
      "Epoch [610/1000], Loss: 0.1395\n",
      "Epoch [620/1000], Loss: 0.1384\n",
      "Epoch [630/1000], Loss: 0.1373\n",
      "Epoch [640/1000], Loss: 0.1362\n",
      "Epoch [650/1000], Loss: 0.1354\n",
      "Epoch [660/1000], Loss: 0.1343\n",
      "Epoch [670/1000], Loss: 0.1332\n",
      "Epoch [680/1000], Loss: 0.1323\n",
      "Epoch [690/1000], Loss: 0.1316\n",
      "Epoch [700/1000], Loss: 0.1306\n",
      "Epoch [710/1000], Loss: 0.1298\n",
      "Epoch [720/1000], Loss: 0.1290\n",
      "Epoch [730/1000], Loss: 0.1283\n",
      "Epoch [740/1000], Loss: 0.1278\n",
      "Epoch [750/1000], Loss: 0.1270\n",
      "Epoch [760/1000], Loss: 0.1265\n",
      "Epoch [770/1000], Loss: 0.1258\n",
      "Epoch [780/1000], Loss: 0.1253\n",
      "Epoch [790/1000], Loss: 0.1247\n",
      "Epoch [800/1000], Loss: 0.1242\n",
      "Epoch [810/1000], Loss: 0.1238\n",
      "Epoch [820/1000], Loss: 0.1233\n",
      "Epoch [830/1000], Loss: 0.1229\n",
      "Epoch [840/1000], Loss: 0.1225\n",
      "Epoch [850/1000], Loss: 0.1224\n",
      "Epoch [860/1000], Loss: 0.1220\n",
      "Epoch [870/1000], Loss: 0.1215\n",
      "Epoch [880/1000], Loss: 0.1211\n",
      "Epoch [890/1000], Loss: 0.1208\n",
      "Epoch [900/1000], Loss: 0.1205\n",
      "Epoch [910/1000], Loss: 0.1203\n",
      "Epoch [920/1000], Loss: 0.1200\n",
      "Epoch [930/1000], Loss: 0.1199\n",
      "Epoch [940/1000], Loss: 0.1196\n",
      "Epoch [950/1000], Loss: 0.1195\n",
      "Epoch [960/1000], Loss: 0.1192\n",
      "Epoch [970/1000], Loss: 0.1190\n",
      "Epoch [980/1000], Loss: 0.1188\n",
      "Epoch [990/1000], Loss: 0.1187\n",
      "Epoch [1000/1000], Loss: 0.1185\n"
     ]
    }
   ],
   "source": [
    "epochs = 1000\n",
    "for epoch in range(epochs):\n",
    "    y_pred = model(X_tensor)\n",
    "    \n",
    "    loss = criterion(y_pred, uu_tensor)\n",
    "    \n",
    "    optimizer.zero_grad()\n",
    "    loss.backward()\n",
    "    optimizer.step()\n",
    "\n",
    "    if (epoch+1) % 10 == 0:\n",
    "        print(f'Epoch [{epoch+1}/{epochs}], Loss: {loss.item():.4f}')"
   ]
  },
  {
   "cell_type": "code",
   "execution_count": 79,
   "id": "d79ebc00e239a23e",
   "metadata": {
    "collapsed": false,
    "ExecuteTime": {
     "end_time": "2024-10-12T06:51:01.934038Z",
     "start_time": "2024-10-12T06:51:01.689135Z"
    }
   },
   "outputs": [],
   "source": [
    "t_fixed = tt[len(tt) // 2]  # Pick a fixed t"
   ]
  },
  {
   "cell_type": "code",
   "execution_count": 80,
   "id": "b511a9727ccb9d39",
   "metadata": {
    "collapsed": false,
    "ExecuteTime": {
     "end_time": "2024-10-12T06:51:01.934172Z",
     "start_time": "2024-10-12T06:51:01.693673Z"
    }
   },
   "outputs": [],
   "source": [
    "X_fixed_time = np.column_stack((x, np.full_like(x, t_fixed)))  # Combine x with fixed t"
   ]
  },
  {
   "cell_type": "code",
   "execution_count": 81,
   "id": "ee69baa639612b5",
   "metadata": {
    "collapsed": false,
    "ExecuteTime": {
     "end_time": "2024-10-12T06:51:01.934408Z",
     "start_time": "2024-10-12T06:51:01.704898Z"
    }
   },
   "outputs": [],
   "source": [
    "X_fixed_time_tensor = torch.tensor(X_fixed_time, dtype=torch.float32)"
   ]
  },
  {
   "cell_type": "code",
   "execution_count": 82,
   "id": "a76ef07e6ed148ef",
   "metadata": {
    "collapsed": false,
    "ExecuteTime": {
     "end_time": "2024-10-12T06:51:01.934537Z",
     "start_time": "2024-10-12T06:51:01.708541Z"
    }
   },
   "outputs": [],
   "source": [
    "with torch.no_grad():\n",
    "    uu_fixed_time_pred = model(X_fixed_time_tensor).numpy()"
   ]
  },
  {
   "cell_type": "code",
   "execution_count": 83,
   "id": "b06471d007dc4155",
   "metadata": {
    "collapsed": false,
    "ExecuteTime": {
     "end_time": "2024-10-12T06:51:01.934806Z",
     "start_time": "2024-10-12T06:51:01.719727Z"
    }
   },
   "outputs": [
    {
     "data": {
      "text/plain": "<Figure size 800x600 with 1 Axes>",
      "image/png": "[encoded data removed]"
     },
     "metadata": {},
     "output_type": "display_data"
    }
   ],
   "source": [
    "plt.figure(figsize=(8, 6))\n",
    "plt.plot(x, uu_fixed_time_pred, label=f'Predictions at t = {t_fixed}', color='blue', linestyle='--')\n",
    "plt.title(f'Predicted u(x) at fixed time t = {t_fixed}')\n",
    "plt.xlabel('Spatial Variable (x)')\n",
    "plt.ylabel('Predicted u(x)')\n",
    "plt.legend()\n",
    "plt.grid(True)\n",
    "plt.show()"
   ]
  }
 ],
 "metadata": {
  "kernelspec": {
   "display_name": "Python 3 (ipykernel)",
   "language": "python",
   "name": "python3"
  },
  "language_info": {
   "codemirror_mode": {
    "name": "ipython",
    "version": 3
   },
   "file_extension": ".py",
   "mimetype": "text/x-python",
   "name": "python",
   "nbconvert_exporter": "python",
   "pygments_lexer": "ipython3",
   "version": "3.12.5"
  }
 },
 "nbformat": 4,
 "nbformat_minor": 5
}
